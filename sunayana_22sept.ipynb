{
 "cells": [
  {
   "cell_type": "code",
   "execution_count": 1,
   "id": "b3a1bbc6",
   "metadata": {},
   "outputs": [
    {
     "name": "stdout",
     "output_type": "stream",
     "text": [
      "Sunayana M\n"
     ]
    }
   ],
   "source": [
    "# print name\n",
    "print(\"Sunayana M\")"
   ]
  },
  {
   "cell_type": "code",
   "execution_count": 4,
   "id": "6b59e3bb",
   "metadata": {},
   "outputs": [
    {
     "name": "stdout",
     "output_type": "stream",
     "text": [
      "Enter number 1:12\n",
      "Enter number 2:9\n",
      "Sum =  21\n"
     ]
    }
   ],
   "source": [
    "# addition of numbers\n",
    "a=int(input(\"Enter number 1:\"))\n",
    "b=int(input(\"Enter number 2:\"))\n",
    "print(\"Sum = \",(a+b))"
   ]
  },
  {
   "cell_type": "code",
   "execution_count": 12,
   "id": "af735035",
   "metadata": {},
   "outputs": [
    {
     "name": "stdout",
     "output_type": "stream",
     "text": [
      "Enter the size of array:5\n",
      "12\n",
      "1\n",
      "76\n",
      "344\n",
      "2\n",
      "Enter the search key:76\n",
      "Element found at position  2\n"
     ]
    }
   ],
   "source": [
    "# linear search\n",
    "arr =[]\n",
    "n=int(input(\"Enter the size of array:\"))\n",
    "for i in range(0,n):\n",
    "    ele=int(input())\n",
    "    arr.append(ele)\n",
    "key=int(input(\"Enter the search key:\"))\n",
    "for i in range(0,n):\n",
    "    if(arr[i]==key):\n",
    "        print(\"Element found at position \",(i+1))\n",
    "        break\n",
    "        "
   ]
  },
  {
   "cell_type": "code",
   "execution_count": 16,
   "id": "f18dc8b2",
   "metadata": {},
   "outputs": [
    {
     "name": "stdout",
     "output_type": "stream",
     "text": [
      "Enter the size of array:5\n",
      "3\n",
      "7\n",
      "12\n",
      "14\n",
      "15\n",
      "Enter the search key:15\n",
      "Element found at position  5\n"
     ]
    }
   ],
   "source": [
    "# binary search\n",
    "arr =[]\n",
    "n=int(input(\"Enter the size of array:\"))\n",
    "for i in range(0,n):\n",
    "    ele=int(input())\n",
    "    arr.append(ele)\n",
    "key=int(input(\"Enter the search key:\"))\n",
    "l=0\n",
    "h=n\n",
    "while(l<=h):\n",
    "    mid=(int)((l+h)/2)\n",
    "    if(arr[mid]==key):\n",
    "        print(\"Element found at position \",(mid+1))\n",
    "        break\n",
    "    elif(key>arr[mid]):\n",
    "        l=mid+1\n",
    "    else:\n",
    "        h=mid-1\n"
   ]
  },
  {
   "cell_type": "code",
   "execution_count": 23,
   "id": "0c7612b7",
   "metadata": {},
   "outputs": [
    {
     "name": "stdout",
     "output_type": "stream",
     "text": [
      "Enter the size of array:5\n",
      "19\n",
      "28\n",
      "-2\n",
      "9\n",
      "-1\n",
      "[-2, -1, 9, 19, 28]\n"
     ]
    }
   ],
   "source": [
    "# selection sort\n",
    "arr =[]\n",
    "n=int(input(\"Enter the size of array:\"))\n",
    "for i in range(0,n):\n",
    "    ele=int(input())\n",
    "    arr.append(ele)\n",
    "\n",
    "pos=-1\n",
    "for i in range(0,n):\n",
    "    pos=i\n",
    "    for j in range(i+1,n):\n",
    "        if(arr[j]<arr[pos]):\n",
    "            pos=j\n",
    "    if(pos!=i):\n",
    "        temp=arr[i]\n",
    "        arr[i]=arr[pos]\n",
    "        arr[pos]=temp\n",
    "        \n",
    "print(arr)"
   ]
  },
  {
   "cell_type": "code",
   "execution_count": 26,
   "id": "16237950",
   "metadata": {},
   "outputs": [
    {
     "data": {
      "text/plain": [
       "['hello everyone\\n',\n",
       " 'baa baa black sheep\\n',\n",
       " 'twinkle twinkle\\n',\n",
       " 'little star\\n']"
      ]
     },
     "execution_count": 26,
     "metadata": {},
     "output_type": "execute_result"
    }
   ],
   "source": [
    "# read text from txt file\n",
    "file=open(\"/home/admn/Documents/1nt19is165/demo.txt\",\"r\")\n",
    "file.readlines()"
   ]
  },
  {
   "cell_type": "code",
   "execution_count": null,
   "id": "6bc3a3b4",
   "metadata": {},
   "outputs": [],
   "source": []
  }
 ],
 "metadata": {
  "kernelspec": {
   "display_name": "Python 3 (ipykernel)",
   "language": "python",
   "name": "python3"
  },
  "language_info": {
   "codemirror_mode": {
    "name": "ipython",
    "version": 3
   },
   "file_extension": ".py",
   "mimetype": "text/x-python",
   "name": "python",
   "nbconvert_exporter": "python",
   "pygments_lexer": "ipython3",
   "version": "3.9.1"
  }
 },
 "nbformat": 4,
 "nbformat_minor": 5
}
